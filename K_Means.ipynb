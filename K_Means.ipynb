{
  "nbformat": 4,
  "nbformat_minor": 0,
  "metadata": {
    "colab": {
      "provenance": [],
      "include_colab_link": true
    },
    "kernelspec": {
      "name": "python3",
      "display_name": "Python 3"
    },
    "language_info": {
      "name": "python"
    }
  },
  "cells": [
    {
      "cell_type": "markdown",
      "metadata": {
        "id": "view-in-github",
        "colab_type": "text"
      },
      "source": [
        "<a href=\"https://colab.research.google.com/github/Adityaoza93/Adityaoza93/blob/main/K_Means.ipynb\" target=\"_parent\"><img src=\"https://colab.research.google.com/assets/colab-badge.svg\" alt=\"Open In Colab\"/></a>"
      ]
    },
    {
      "cell_type": "code",
      "execution_count": 1,
      "metadata": {
        "id": "E6I0bTUZ3KcH"
      },
      "outputs": [],
      "source": [
        "import pandas as pd\n",
        "import numpy as np\n",
        "import statistics as st\n",
        "import random"
      ]
    },
    {
      "cell_type": "code",
      "source": [
        "inp = [22,9,12,15,10,27,35,18,36,11]\n"
      ],
      "metadata": {
        "id": "ihFKPAyc3gP8"
      },
      "execution_count": 2,
      "outputs": []
    },
    {
      "cell_type": "code",
      "source": [
        "k = int(input(\"Enter the value of k => \"))"
      ],
      "metadata": {
        "colab": {
          "base_uri": "https://localhost:8080/"
        },
        "id": "0EeNvcy35vyA",
        "outputId": "f94fddad-7804-4d9f-9c03-4cdceb06a8db"
      },
      "execution_count": 3,
      "outputs": [
        {
          "name": "stdout",
          "output_type": "stream",
          "text": [
            "Enter the value of k => 4\n"
          ]
        }
      ]
    },
    {
      "cell_type": "code",
      "source": [
        "randomValue = []\n",
        "for i in range(0, k):\n",
        "  rand = inp[random.randint(0, len(inp)-1)]\n",
        "  if rand not in randomValue:\n",
        "    randomValue.append(rand)\n",
        "print(randomValue)"
      ],
      "metadata": {
        "colab": {
          "base_uri": "https://localhost:8080/"
        },
        "id": "hIMPBWg557ZR",
        "outputId": "e72f1b75-281b-4e8d-e756-cd1853ab0fec"
      },
      "execution_count": 5,
      "outputs": [
        {
          "output_type": "stream",
          "name": "stdout",
          "text": [
            "[36, 35, 12, 15]\n"
          ]
        }
      ]
    },
    {
      "cell_type": "code",
      "source": [
        "def distance(a,b):\n",
        "  return abs(a-b)"
      ],
      "metadata": {
        "id": "BP_W7ytj9SJh"
      },
      "execution_count": 6,
      "outputs": []
    },
    {
      "cell_type": "code",
      "source": [
        "def itr(randomValue):\n",
        "  global c1\n",
        "  global c2\n",
        "  global c3\n",
        "  c1=[]\n",
        "  c2=[]\n",
        "  c3=[]\n",
        "  lst = []\n",
        "  for i in inp:\n",
        "    d1 = distance(i,randomValue[0])\n",
        "    d2 = distance(i,randomValue[1])\n",
        "    d3 = distance(i,randomValue[2])\n",
        "    val = {\"d1\":d1,\"d2\":d2,\"d3\":d3}\n",
        "    minValue = sorted(val.items(), key=lambda t: t[1])[0][0]\n",
        "    if minValue == \"d1\":\n",
        "      c1.append(i)\n",
        "    elif minValue == \"d2\":\n",
        "      c2.append(i)\n",
        "    else: c3.append(i)\n",
        "  # print(c1)\n",
        "  # print(c2)\n",
        "  # print(c3)\n",
        "  c1 = np.array(c1)\n",
        "  c2 = np.array(c2)\n",
        "  c3 = np.array(c3)\n",
        "  c1_mean = np.mean(c1)\n",
        "  c2_mean = np.mean(c2)\n",
        "  c3_mean = np.mean(c3)\n",
        "  c1 = list(c1)\n",
        "  c2 = list(c2)\n",
        "  c3 = list(c3)\n",
        "  lst.append(c1_mean)\n",
        "  lst.append(c2_mean)\n",
        "  lst.append(c3_mean)\n",
        "  # print(c1_mean,c2_mean,c3_mean)\n",
        "  return lst"
      ],
      "metadata": {
        "id": "7LdaSc3m-BDJ"
      },
      "execution_count": 7,
      "outputs": []
    },
    {
      "cell_type": "code",
      "source": [
        "prev_lst = []\n",
        "new_lst = itr(randomValue)\n",
        "while prev_lst != new_lst:\n",
        "  prev_lst = new_lst\n",
        "  new_lst = itr(new_lst)"
      ],
      "metadata": {
        "id": "6st_tOeD-qZO"
      },
      "execution_count": 8,
      "outputs": []
    },
    {
      "cell_type": "code",
      "source": [
        "print(c1, c2, c3)"
      ],
      "metadata": {
        "colab": {
          "base_uri": "https://localhost:8080/"
        },
        "id": "yzWhvO5-NoT4",
        "outputId": "e49abe7c-7979-4a27-9e8b-d2a2633f5cb0"
      },
      "execution_count": 9,
      "outputs": [
        {
          "output_type": "stream",
          "name": "stdout",
          "text": [
            "[35, 36] [22, 27] [9, 12, 15, 10, 18, 11]\n"
          ]
        }
      ]
    },
    {
      "cell_type": "code",
      "source": [],
      "metadata": {
        "id": "mjCk_GabSl9T"
      },
      "execution_count": 9,
      "outputs": []
    }
  ]
}